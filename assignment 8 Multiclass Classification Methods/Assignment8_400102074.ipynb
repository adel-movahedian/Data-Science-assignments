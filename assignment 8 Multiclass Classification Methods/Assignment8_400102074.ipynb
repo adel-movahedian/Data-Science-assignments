{
  "nbformat": 4,
  "nbformat_minor": 0,
  "metadata": {
    "colab": {
      "provenance": []
    },
    "kernelspec": {
      "name": "python3",
      "display_name": "Python 3"
    },
    "language_info": {
      "name": "python"
    }
  },
  "cells": [
    {
      "cell_type": "markdown",
      "source": [
        "# Adel Movahedian 400102074\n",
        "---\n",
        "## Assignment8\n",
        "---"
      ],
      "metadata": {
        "id": "2wV5NvWAcpVl"
      }
    },
    {
      "cell_type": "code",
      "execution_count": 22,
      "metadata": {
        "id": "Ed-10b_GKCBJ",
        "colab": {
          "base_uri": "https://localhost:8080/",
          "height": 359
        },
        "outputId": "1246504a-cf84-46ad-e8ca-6ba490c84e0c"
      },
      "outputs": [
        {
          "output_type": "execute_result",
          "data": {
            "text/plain": [
              "   Unnamed: 0      ID               Name  Age  \\\n",
              "0           0  158023           L. Messi   31   \n",
              "1           1   20801  Cristiano Ronaldo   33   \n",
              "2           2  190871          Neymar Jr   26   \n",
              "3           3  193080             De Gea   27   \n",
              "4           4  192985       K. De Bruyne   27   \n",
              "\n",
              "                                            Photo Nationality  \\\n",
              "0  https://cdn.sofifa.org/players/4/19/158023.png   Argentina   \n",
              "1   https://cdn.sofifa.org/players/4/19/20801.png    Portugal   \n",
              "2  https://cdn.sofifa.org/players/4/19/190871.png      Brazil   \n",
              "3  https://cdn.sofifa.org/players/4/19/193080.png       Spain   \n",
              "4  https://cdn.sofifa.org/players/4/19/192985.png     Belgium   \n",
              "\n",
              "                                  Flag  Overall  Potential  \\\n",
              "0  https://cdn.sofifa.org/flags/52.png       94         94   \n",
              "1  https://cdn.sofifa.org/flags/38.png       94         94   \n",
              "2  https://cdn.sofifa.org/flags/54.png       92         93   \n",
              "3  https://cdn.sofifa.org/flags/45.png       91         93   \n",
              "4   https://cdn.sofifa.org/flags/7.png       91         92   \n",
              "\n",
              "                  Club  ... Composure Marking StandingTackle  SlidingTackle  \\\n",
              "0         FC Barcelona  ...      96.0    33.0           28.0           26.0   \n",
              "1             Juventus  ...      95.0    28.0           31.0           23.0   \n",
              "2  Paris Saint-Germain  ...      94.0    27.0           24.0           33.0   \n",
              "3    Manchester United  ...      68.0    15.0           21.0           13.0   \n",
              "4      Manchester City  ...      88.0    68.0           58.0           51.0   \n",
              "\n",
              "  GKDiving  GKHandling  GKKicking  GKPositioning GKReflexes Release Clause  \n",
              "0      6.0        11.0       15.0           14.0        8.0        €226.5M  \n",
              "1      7.0        11.0       15.0           14.0       11.0        €127.1M  \n",
              "2      9.0         9.0       15.0           15.0       11.0        €228.1M  \n",
              "3     90.0        85.0       87.0           88.0       94.0        €138.6M  \n",
              "4     15.0        13.0        5.0           10.0       13.0        €196.4M  \n",
              "\n",
              "[5 rows x 89 columns]"
            ],
            "text/html": [
              "\n",
              "  <div id=\"df-fa852440-1fa9-4214-8ea1-f7e142f3c555\" class=\"colab-df-container\">\n",
              "    <div>\n",
              "<style scoped>\n",
              "    .dataframe tbody tr th:only-of-type {\n",
              "        vertical-align: middle;\n",
              "    }\n",
              "\n",
              "    .dataframe tbody tr th {\n",
              "        vertical-align: top;\n",
              "    }\n",
              "\n",
              "    .dataframe thead th {\n",
              "        text-align: right;\n",
              "    }\n",
              "</style>\n",
              "<table border=\"1\" class=\"dataframe\">\n",
              "  <thead>\n",
              "    <tr style=\"text-align: right;\">\n",
              "      <th></th>\n",
              "      <th>Unnamed: 0</th>\n",
              "      <th>ID</th>\n",
              "      <th>Name</th>\n",
              "      <th>Age</th>\n",
              "      <th>Photo</th>\n",
              "      <th>Nationality</th>\n",
              "      <th>Flag</th>\n",
              "      <th>Overall</th>\n",
              "      <th>Potential</th>\n",
              "      <th>Club</th>\n",
              "      <th>...</th>\n",
              "      <th>Composure</th>\n",
              "      <th>Marking</th>\n",
              "      <th>StandingTackle</th>\n",
              "      <th>SlidingTackle</th>\n",
              "      <th>GKDiving</th>\n",
              "      <th>GKHandling</th>\n",
              "      <th>GKKicking</th>\n",
              "      <th>GKPositioning</th>\n",
              "      <th>GKReflexes</th>\n",
              "      <th>Release Clause</th>\n",
              "    </tr>\n",
              "  </thead>\n",
              "  <tbody>\n",
              "    <tr>\n",
              "      <th>0</th>\n",
              "      <td>0</td>\n",
              "      <td>158023</td>\n",
              "      <td>L. Messi</td>\n",
              "      <td>31</td>\n",
              "      <td>https://cdn.sofifa.org/players/4/19/158023.png</td>\n",
              "      <td>Argentina</td>\n",
              "      <td>https://cdn.sofifa.org/flags/52.png</td>\n",
              "      <td>94</td>\n",
              "      <td>94</td>\n",
              "      <td>FC Barcelona</td>\n",
              "      <td>...</td>\n",
              "      <td>96.0</td>\n",
              "      <td>33.0</td>\n",
              "      <td>28.0</td>\n",
              "      <td>26.0</td>\n",
              "      <td>6.0</td>\n",
              "      <td>11.0</td>\n",
              "      <td>15.0</td>\n",
              "      <td>14.0</td>\n",
              "      <td>8.0</td>\n",
              "      <td>€226.5M</td>\n",
              "    </tr>\n",
              "    <tr>\n",
              "      <th>1</th>\n",
              "      <td>1</td>\n",
              "      <td>20801</td>\n",
              "      <td>Cristiano Ronaldo</td>\n",
              "      <td>33</td>\n",
              "      <td>https://cdn.sofifa.org/players/4/19/20801.png</td>\n",
              "      <td>Portugal</td>\n",
              "      <td>https://cdn.sofifa.org/flags/38.png</td>\n",
              "      <td>94</td>\n",
              "      <td>94</td>\n",
              "      <td>Juventus</td>\n",
              "      <td>...</td>\n",
              "      <td>95.0</td>\n",
              "      <td>28.0</td>\n",
              "      <td>31.0</td>\n",
              "      <td>23.0</td>\n",
              "      <td>7.0</td>\n",
              "      <td>11.0</td>\n",
              "      <td>15.0</td>\n",
              "      <td>14.0</td>\n",
              "      <td>11.0</td>\n",
              "      <td>€127.1M</td>\n",
              "    </tr>\n",
              "    <tr>\n",
              "      <th>2</th>\n",
              "      <td>2</td>\n",
              "      <td>190871</td>\n",
              "      <td>Neymar Jr</td>\n",
              "      <td>26</td>\n",
              "      <td>https://cdn.sofifa.org/players/4/19/190871.png</td>\n",
              "      <td>Brazil</td>\n",
              "      <td>https://cdn.sofifa.org/flags/54.png</td>\n",
              "      <td>92</td>\n",
              "      <td>93</td>\n",
              "      <td>Paris Saint-Germain</td>\n",
              "      <td>...</td>\n",
              "      <td>94.0</td>\n",
              "      <td>27.0</td>\n",
              "      <td>24.0</td>\n",
              "      <td>33.0</td>\n",
              "      <td>9.0</td>\n",
              "      <td>9.0</td>\n",
              "      <td>15.0</td>\n",
              "      <td>15.0</td>\n",
              "      <td>11.0</td>\n",
              "      <td>€228.1M</td>\n",
              "    </tr>\n",
              "    <tr>\n",
              "      <th>3</th>\n",
              "      <td>3</td>\n",
              "      <td>193080</td>\n",
              "      <td>De Gea</td>\n",
              "      <td>27</td>\n",
              "      <td>https://cdn.sofifa.org/players/4/19/193080.png</td>\n",
              "      <td>Spain</td>\n",
              "      <td>https://cdn.sofifa.org/flags/45.png</td>\n",
              "      <td>91</td>\n",
              "      <td>93</td>\n",
              "      <td>Manchester United</td>\n",
              "      <td>...</td>\n",
              "      <td>68.0</td>\n",
              "      <td>15.0</td>\n",
              "      <td>21.0</td>\n",
              "      <td>13.0</td>\n",
              "      <td>90.0</td>\n",
              "      <td>85.0</td>\n",
              "      <td>87.0</td>\n",
              "      <td>88.0</td>\n",
              "      <td>94.0</td>\n",
              "      <td>€138.6M</td>\n",
              "    </tr>\n",
              "    <tr>\n",
              "      <th>4</th>\n",
              "      <td>4</td>\n",
              "      <td>192985</td>\n",
              "      <td>K. De Bruyne</td>\n",
              "      <td>27</td>\n",
              "      <td>https://cdn.sofifa.org/players/4/19/192985.png</td>\n",
              "      <td>Belgium</td>\n",
              "      <td>https://cdn.sofifa.org/flags/7.png</td>\n",
              "      <td>91</td>\n",
              "      <td>92</td>\n",
              "      <td>Manchester City</td>\n",
              "      <td>...</td>\n",
              "      <td>88.0</td>\n",
              "      <td>68.0</td>\n",
              "      <td>58.0</td>\n",
              "      <td>51.0</td>\n",
              "      <td>15.0</td>\n",
              "      <td>13.0</td>\n",
              "      <td>5.0</td>\n",
              "      <td>10.0</td>\n",
              "      <td>13.0</td>\n",
              "      <td>€196.4M</td>\n",
              "    </tr>\n",
              "  </tbody>\n",
              "</table>\n",
              "<p>5 rows × 89 columns</p>\n",
              "</div>\n",
              "    <div class=\"colab-df-buttons\">\n",
              "\n",
              "  <div class=\"colab-df-container\">\n",
              "    <button class=\"colab-df-convert\" onclick=\"convertToInteractive('df-fa852440-1fa9-4214-8ea1-f7e142f3c555')\"\n",
              "            title=\"Convert this dataframe to an interactive table.\"\n",
              "            style=\"display:none;\">\n",
              "\n",
              "  <svg xmlns=\"http://www.w3.org/2000/svg\" height=\"24px\" viewBox=\"0 -960 960 960\">\n",
              "    <path d=\"M120-120v-720h720v720H120Zm60-500h600v-160H180v160Zm220 220h160v-160H400v160Zm0 220h160v-160H400v160ZM180-400h160v-160H180v160Zm440 0h160v-160H620v160ZM180-180h160v-160H180v160Zm440 0h160v-160H620v160Z\"/>\n",
              "  </svg>\n",
              "    </button>\n",
              "\n",
              "  <style>\n",
              "    .colab-df-container {\n",
              "      display:flex;\n",
              "      gap: 12px;\n",
              "    }\n",
              "\n",
              "    .colab-df-convert {\n",
              "      background-color: #E8F0FE;\n",
              "      border: none;\n",
              "      border-radius: 50%;\n",
              "      cursor: pointer;\n",
              "      display: none;\n",
              "      fill: #1967D2;\n",
              "      height: 32px;\n",
              "      padding: 0 0 0 0;\n",
              "      width: 32px;\n",
              "    }\n",
              "\n",
              "    .colab-df-convert:hover {\n",
              "      background-color: #E2EBFA;\n",
              "      box-shadow: 0px 1px 2px rgba(60, 64, 67, 0.3), 0px 1px 3px 1px rgba(60, 64, 67, 0.15);\n",
              "      fill: #174EA6;\n",
              "    }\n",
              "\n",
              "    .colab-df-buttons div {\n",
              "      margin-bottom: 4px;\n",
              "    }\n",
              "\n",
              "    [theme=dark] .colab-df-convert {\n",
              "      background-color: #3B4455;\n",
              "      fill: #D2E3FC;\n",
              "    }\n",
              "\n",
              "    [theme=dark] .colab-df-convert:hover {\n",
              "      background-color: #434B5C;\n",
              "      box-shadow: 0px 1px 3px 1px rgba(0, 0, 0, 0.15);\n",
              "      filter: drop-shadow(0px 1px 2px rgba(0, 0, 0, 0.3));\n",
              "      fill: #FFFFFF;\n",
              "    }\n",
              "  </style>\n",
              "\n",
              "    <script>\n",
              "      const buttonEl =\n",
              "        document.querySelector('#df-fa852440-1fa9-4214-8ea1-f7e142f3c555 button.colab-df-convert');\n",
              "      buttonEl.style.display =\n",
              "        google.colab.kernel.accessAllowed ? 'block' : 'none';\n",
              "\n",
              "      async function convertToInteractive(key) {\n",
              "        const element = document.querySelector('#df-fa852440-1fa9-4214-8ea1-f7e142f3c555');\n",
              "        const dataTable =\n",
              "          await google.colab.kernel.invokeFunction('convertToInteractive',\n",
              "                                                    [key], {});\n",
              "        if (!dataTable) return;\n",
              "\n",
              "        const docLinkHtml = 'Like what you see? Visit the ' +\n",
              "          '<a target=\"_blank\" href=https://colab.research.google.com/notebooks/data_table.ipynb>data table notebook</a>'\n",
              "          + ' to learn more about interactive tables.';\n",
              "        element.innerHTML = '';\n",
              "        dataTable['output_type'] = 'display_data';\n",
              "        await google.colab.output.renderOutput(dataTable, element);\n",
              "        const docLink = document.createElement('div');\n",
              "        docLink.innerHTML = docLinkHtml;\n",
              "        element.appendChild(docLink);\n",
              "      }\n",
              "    </script>\n",
              "  </div>\n",
              "\n",
              "\n",
              "<div id=\"df-83b65acf-253f-4c82-9734-b9cbbe7535a2\">\n",
              "  <button class=\"colab-df-quickchart\" onclick=\"quickchart('df-83b65acf-253f-4c82-9734-b9cbbe7535a2')\"\n",
              "            title=\"Suggest charts\"\n",
              "            style=\"display:none;\">\n",
              "\n",
              "<svg xmlns=\"http://www.w3.org/2000/svg\" height=\"24px\"viewBox=\"0 0 24 24\"\n",
              "     width=\"24px\">\n",
              "    <g>\n",
              "        <path d=\"M19 3H5c-1.1 0-2 .9-2 2v14c0 1.1.9 2 2 2h14c1.1 0 2-.9 2-2V5c0-1.1-.9-2-2-2zM9 17H7v-7h2v7zm4 0h-2V7h2v10zm4 0h-2v-4h2v4z\"/>\n",
              "    </g>\n",
              "</svg>\n",
              "  </button>\n",
              "\n",
              "<style>\n",
              "  .colab-df-quickchart {\n",
              "      --bg-color: #E8F0FE;\n",
              "      --fill-color: #1967D2;\n",
              "      --hover-bg-color: #E2EBFA;\n",
              "      --hover-fill-color: #174EA6;\n",
              "      --disabled-fill-color: #AAA;\n",
              "      --disabled-bg-color: #DDD;\n",
              "  }\n",
              "\n",
              "  [theme=dark] .colab-df-quickchart {\n",
              "      --bg-color: #3B4455;\n",
              "      --fill-color: #D2E3FC;\n",
              "      --hover-bg-color: #434B5C;\n",
              "      --hover-fill-color: #FFFFFF;\n",
              "      --disabled-bg-color: #3B4455;\n",
              "      --disabled-fill-color: #666;\n",
              "  }\n",
              "\n",
              "  .colab-df-quickchart {\n",
              "    background-color: var(--bg-color);\n",
              "    border: none;\n",
              "    border-radius: 50%;\n",
              "    cursor: pointer;\n",
              "    display: none;\n",
              "    fill: var(--fill-color);\n",
              "    height: 32px;\n",
              "    padding: 0;\n",
              "    width: 32px;\n",
              "  }\n",
              "\n",
              "  .colab-df-quickchart:hover {\n",
              "    background-color: var(--hover-bg-color);\n",
              "    box-shadow: 0 1px 2px rgba(60, 64, 67, 0.3), 0 1px 3px 1px rgba(60, 64, 67, 0.15);\n",
              "    fill: var(--button-hover-fill-color);\n",
              "  }\n",
              "\n",
              "  .colab-df-quickchart-complete:disabled,\n",
              "  .colab-df-quickchart-complete:disabled:hover {\n",
              "    background-color: var(--disabled-bg-color);\n",
              "    fill: var(--disabled-fill-color);\n",
              "    box-shadow: none;\n",
              "  }\n",
              "\n",
              "  .colab-df-spinner {\n",
              "    border: 2px solid var(--fill-color);\n",
              "    border-color: transparent;\n",
              "    border-bottom-color: var(--fill-color);\n",
              "    animation:\n",
              "      spin 1s steps(1) infinite;\n",
              "  }\n",
              "\n",
              "  @keyframes spin {\n",
              "    0% {\n",
              "      border-color: transparent;\n",
              "      border-bottom-color: var(--fill-color);\n",
              "      border-left-color: var(--fill-color);\n",
              "    }\n",
              "    20% {\n",
              "      border-color: transparent;\n",
              "      border-left-color: var(--fill-color);\n",
              "      border-top-color: var(--fill-color);\n",
              "    }\n",
              "    30% {\n",
              "      border-color: transparent;\n",
              "      border-left-color: var(--fill-color);\n",
              "      border-top-color: var(--fill-color);\n",
              "      border-right-color: var(--fill-color);\n",
              "    }\n",
              "    40% {\n",
              "      border-color: transparent;\n",
              "      border-right-color: var(--fill-color);\n",
              "      border-top-color: var(--fill-color);\n",
              "    }\n",
              "    60% {\n",
              "      border-color: transparent;\n",
              "      border-right-color: var(--fill-color);\n",
              "    }\n",
              "    80% {\n",
              "      border-color: transparent;\n",
              "      border-right-color: var(--fill-color);\n",
              "      border-bottom-color: var(--fill-color);\n",
              "    }\n",
              "    90% {\n",
              "      border-color: transparent;\n",
              "      border-bottom-color: var(--fill-color);\n",
              "    }\n",
              "  }\n",
              "</style>\n",
              "\n",
              "  <script>\n",
              "    async function quickchart(key) {\n",
              "      const quickchartButtonEl =\n",
              "        document.querySelector('#' + key + ' button');\n",
              "      quickchartButtonEl.disabled = true;  // To prevent multiple clicks.\n",
              "      quickchartButtonEl.classList.add('colab-df-spinner');\n",
              "      try {\n",
              "        const charts = await google.colab.kernel.invokeFunction(\n",
              "            'suggestCharts', [key], {});\n",
              "      } catch (error) {\n",
              "        console.error('Error during call to suggestCharts:', error);\n",
              "      }\n",
              "      quickchartButtonEl.classList.remove('colab-df-spinner');\n",
              "      quickchartButtonEl.classList.add('colab-df-quickchart-complete');\n",
              "    }\n",
              "    (() => {\n",
              "      let quickchartButtonEl =\n",
              "        document.querySelector('#df-83b65acf-253f-4c82-9734-b9cbbe7535a2 button');\n",
              "      quickchartButtonEl.style.display =\n",
              "        google.colab.kernel.accessAllowed ? 'block' : 'none';\n",
              "    })();\n",
              "  </script>\n",
              "</div>\n",
              "    </div>\n",
              "  </div>\n"
            ],
            "application/vnd.google.colaboratory.intrinsic+json": {
              "type": "dataframe",
              "variable_name": "df"
            }
          },
          "metadata": {},
          "execution_count": 22
        }
      ],
      "source": [
        "import pandas as pd\n",
        "\n",
        "# Load the dataset\n",
        "df = pd.read_csv('fifa19.csv')\n",
        "\n",
        "# Display the first few rows of the dataset\n",
        "df.head()\n"
      ]
    },
    {
      "cell_type": "markdown",
      "source": [
        "1.Creating a target variable with at least 4 classes based on the 'Overall' rating.\n",
        "\n",
        "2.Selecting relevant features for classification (e.g., age, potential, and some skill attributes).\n",
        "\n",
        "3.Cleaning any missing values or irrelevant columns for model training."
      ],
      "metadata": {
        "id": "6KpDZUkFOrmb"
      }
    },
    {
      "cell_type": "code",
      "source": [
        "# Create target variable based on 'Overall' rating into 4 classes\n",
        "bins = [0, 60, 70, 80, 100]  # Define bins for classification\n",
        "labels = ['Very Low', 'Low', 'High', 'Very High']  # Class labels\n",
        "df['Overall_Class'] = pd.cut(df['Overall'], bins=bins, labels=labels, right=False)\n",
        "\n",
        "# Select relevant features for classification (excluding non-numeric columns)\n",
        "features = ['Age', 'Potential', 'Composure', 'Marking', 'StandingTackle',\n",
        "            'SlidingTackle', 'GKDiving', 'GKHandling', 'GKKicking', 'GKPositioning', 'GKReflexes']\n",
        "df_cleaned = df[['Overall_Class'] + features].dropna()  # Remove rows with missing values\n",
        "\n",
        "# Split into features (X) and target (y)\n",
        "X = df_cleaned[features]\n",
        "y = df_cleaned['Overall_Class']\n",
        "\n",
        "# Display the class distribution in the target variable\n",
        "y.value_counts()\n"
      ],
      "metadata": {
        "colab": {
          "base_uri": "https://localhost:8080/",
          "height": 241
        },
        "id": "ACA3i0VGOYhx",
        "outputId": "6aeb0f98-a02f-47d6-bd46-4d248c1579e2"
      },
      "execution_count": 23,
      "outputs": [
        {
          "output_type": "execute_result",
          "data": {
            "text/plain": [
              "Overall_Class\n",
              "Low          9617\n",
              "High         5083\n",
              "Very Low     2904\n",
              "Very High     555\n",
              "Name: count, dtype: int64"
            ],
            "text/html": [
              "<div>\n",
              "<style scoped>\n",
              "    .dataframe tbody tr th:only-of-type {\n",
              "        vertical-align: middle;\n",
              "    }\n",
              "\n",
              "    .dataframe tbody tr th {\n",
              "        vertical-align: top;\n",
              "    }\n",
              "\n",
              "    .dataframe thead th {\n",
              "        text-align: right;\n",
              "    }\n",
              "</style>\n",
              "<table border=\"1\" class=\"dataframe\">\n",
              "  <thead>\n",
              "    <tr style=\"text-align: right;\">\n",
              "      <th></th>\n",
              "      <th>count</th>\n",
              "    </tr>\n",
              "    <tr>\n",
              "      <th>Overall_Class</th>\n",
              "      <th></th>\n",
              "    </tr>\n",
              "  </thead>\n",
              "  <tbody>\n",
              "    <tr>\n",
              "      <th>Low</th>\n",
              "      <td>9617</td>\n",
              "    </tr>\n",
              "    <tr>\n",
              "      <th>High</th>\n",
              "      <td>5083</td>\n",
              "    </tr>\n",
              "    <tr>\n",
              "      <th>Very Low</th>\n",
              "      <td>2904</td>\n",
              "    </tr>\n",
              "    <tr>\n",
              "      <th>Very High</th>\n",
              "      <td>555</td>\n",
              "    </tr>\n",
              "  </tbody>\n",
              "</table>\n",
              "</div><br><label><b>dtype:</b> int64</label>"
            ]
          },
          "metadata": {},
          "execution_count": 23
        }
      ]
    },
    {
      "cell_type": "markdown",
      "source": [
        "The target variable 'Overall_Class' has four classes: \"Very Low\", \"Low\", \"High\", and \"Very High\". The class distribution is somewhat imbalanced, with the \"Very High\" class having significantly fewer instances compared to the others."
      ],
      "metadata": {
        "id": "o8ofpErEPAmc"
      }
    },
    {
      "cell_type": "markdown",
      "source": [
        "Now that we have prepared the data, the next step is to proceed with the multiclass classification models required for the assignment. We'll start by implementing the following methods:\n",
        "\n",
        "1.Multiclass SVM\n",
        "\n",
        "2.Multiclass Logistic Regression (with OVR and Multinomial approach)\n",
        "\n",
        "3.Multiclass KNN\n",
        "\n",
        "4.Multiclass Decision Trees\n",
        "\n",
        "5.Boosting Techniques (XGBoost, LightGBM, Adaboost or Catboost)"
      ],
      "metadata": {
        "id": "Nf_kVwj-PBiU"
      }
    },
    {
      "cell_type": "code",
      "source": [
        "from sklearn.svm import SVC\n",
        "from sklearn.model_selection import train_test_split\n",
        "from sklearn.metrics import f1_score\n",
        "from sklearn.preprocessing import LabelEncoder\n",
        "from sklearn.metrics import log_loss\n",
        "# Encode target variable to numeric labels\n",
        "le = LabelEncoder()\n",
        "y_encoded = le.fit_transform(y)\n",
        "\n",
        "# Split the data into training and test sets\n",
        "X_train, X_test, y_train, y_test = train_test_split(X, y_encoded, test_size=0.2, random_state=42)\n",
        "\n",
        "# Initialize and train the SVM model with One-vs-Rest (OVR) approach\n",
        "svm_model = SVC(kernel='linear', decision_function_shape='ovr', random_state=42)\n",
        "svm_model.fit(X_train, y_train)\n",
        "\n",
        "# Make predictions\n",
        "y_pred_svm = svm_model.predict(X_test)\n",
        "y_prob_svm = svm_model.decision_function(X_test)\n",
        "\n",
        "# Calculate Log Loss for SVM\n",
        "log_loss_svm = log_loss(y_test, y_prob_svm)\n",
        "print(f\"log loss of SVM = {log_loss_svm}\")\n",
        "# Calculate the F1-score for the SVM model\n",
        "f1_svm = f1_score(y_test, y_pred_svm, average='weighted')\n",
        "\n",
        "print(f\"f1 of SVM = {f1_svm}\")\n"
      ],
      "metadata": {
        "colab": {
          "base_uri": "https://localhost:8080/"
        },
        "id": "N7Jf-zSZPNep",
        "outputId": "8f6ee99e-4e28-482d-ea51-079d9109523f"
      },
      "execution_count": 24,
      "outputs": [
        {
          "output_type": "stream",
          "name": "stdout",
          "text": [
            "log loss of SVM = 0.0003419769661050628\n",
            "f1 of SVM = 0.8454805616255093\n"
          ]
        },
        {
          "output_type": "stream",
          "name": "stderr",
          "text": [
            "/usr/local/lib/python3.11/dist-packages/sklearn/metrics/_classification.py:3001: UserWarning: The y_pred values do not sum to one. Make sure to pass probabilities.\n",
            "  warnings.warn(\n"
          ]
        }
      ]
    },
    {
      "cell_type": "markdown",
      "source": [
        "The Multiclass SVM model, using the One-vs-Rest (OVR) technique, achieved an F1-score of approximately 0.85. This is a good score, indicating that the model performs well in classifying the four classes, especially considering the imbalanced class distribution.\n",
        "\n",
        "Next, I will implement Multiclass Logistic Regression using both the One-vs-Rest (OVR) and Multinomial approaches, and calculate the F1-score for each."
      ],
      "metadata": {
        "id": "OMGcCygLPaMa"
      }
    },
    {
      "cell_type": "code",
      "source": [
        "from sklearn.linear_model import LogisticRegression\n",
        "\n",
        "# Initialize and train the Logistic Regression model with OVR (One-vs-Rest) approach\n",
        "log_reg_ovr = LogisticRegression(max_iter=1000, multi_class='ovr', random_state=42)\n",
        "log_reg_ovr.fit(X_train, y_train)\n",
        "\n",
        "# Make predictions for OVR approach\n",
        "y_pred_log_reg_ovr = log_reg_ovr.predict(X_test)\n",
        "\n",
        "# Calculate the F1-score for OVR Logistic Regression\n",
        "f1_log_reg_ovr = f1_score(y_test, y_pred_log_reg_ovr, average='weighted')\n",
        "\n",
        "# Initialize and train the Logistic Regression model with Multinomial approach\n",
        "log_reg_multinomial = LogisticRegression(max_iter=1000, multi_class='multinomial', solver='lbfgs', random_state=42)\n",
        "log_reg_multinomial.fit(X_train, y_train)\n",
        "\n",
        "# Make predictions for Multinomial approach\n",
        "y_pred_log_reg_multinomial = log_reg_multinomial.predict(X_test)\n",
        "\n",
        "# Calculate the F1-score for Multinomial Logistic Regression\n",
        "f1_log_reg_multinomial = f1_score(y_test, y_pred_log_reg_multinomial, average='weighted')\n",
        "\n",
        "print(f\"f1 log reg ovr ={f1_log_reg_ovr},f1 log reg multinomial = {f1_log_reg_multinomial}\")\n",
        "\n",
        "y_prob_log_reg_ovr = log_reg_ovr.predict_proba(X_test)\n",
        "\n",
        "# Calculate Log Loss for Logistic Regression OVR\n",
        "log_loss_log_reg_ovr = log_loss(y_test, y_prob_log_reg_ovr)\n",
        "print(f\"log loss log reg ovr = {log_loss_log_reg_ovr}\")\n",
        "\n",
        "# For Multinomial Logistic Regression\n",
        "y_prob_log_reg_multinomial = log_reg_multinomial.predict_proba(X_test)\n",
        "\n",
        "# Calculate Log Loss for Multinomial Logistic Regression\n",
        "log_loss_log_reg_multinomial = log_loss(y_test, y_prob_log_reg_multinomial)\n",
        "print(f\"log loss log reg multinomial={log_loss_log_reg_multinomial}\")\n"
      ],
      "metadata": {
        "colab": {
          "base_uri": "https://localhost:8080/"
        },
        "id": "MBKpEjYiQAkd",
        "outputId": "ad0ee650-9a1a-4303-f675-72b5477e135c"
      },
      "execution_count": 25,
      "outputs": [
        {
          "output_type": "stream",
          "name": "stderr",
          "text": [
            "/usr/local/lib/python3.11/dist-packages/sklearn/linear_model/_logistic.py:1256: FutureWarning: 'multi_class' was deprecated in version 1.5 and will be removed in 1.7. Use OneVsRestClassifier(LogisticRegression(..)) instead. Leave it to its default value to avoid this warning.\n",
            "  warnings.warn(\n",
            "/usr/local/lib/python3.11/dist-packages/sklearn/linear_model/_logistic.py:1247: FutureWarning: 'multi_class' was deprecated in version 1.5 and will be removed in 1.7. From then on, it will always use 'multinomial'. Leave it to its default value to avoid this warning.\n",
            "  warnings.warn(\n"
          ]
        },
        {
          "output_type": "stream",
          "name": "stdout",
          "text": [
            "f1 log reg ovr =0.81971966221491,f1 log reg multinomial = 0.7801658200240005\n",
            "log loss log reg ovr = 0.5142884353218148\n",
            "log loss log reg multinomial=0.591575423228629\n"
          ]
        },
        {
          "output_type": "stream",
          "name": "stderr",
          "text": [
            "/usr/local/lib/python3.11/dist-packages/sklearn/linear_model/_logistic.py:465: ConvergenceWarning: lbfgs failed to converge (status=1):\n",
            "STOP: TOTAL NO. of ITERATIONS REACHED LIMIT.\n",
            "\n",
            "Increase the number of iterations (max_iter) or scale the data as shown in:\n",
            "    https://scikit-learn.org/stable/modules/preprocessing.html\n",
            "Please also refer to the documentation for alternative solver options:\n",
            "    https://scikit-learn.org/stable/modules/linear_model.html#logistic-regression\n",
            "  n_iter_i = _check_optimize_result(\n"
          ]
        }
      ]
    },
    {
      "cell_type": "markdown",
      "source": [
        "The Multiclass Logistic Regression models have been trained and evaluated:\n",
        "\n",
        "- OVR approach: F1-score of approximately 0.82\n",
        "\n",
        "- Multinomial approach: F1-score of approximately 0.78\n",
        "\n",
        "Both models perform reasonably well, though the One-vs-Rest (OVR) approach performs slightly better in this case.\n",
        "\n",
        "Now, let's implement Multiclass KNN and tune the model to find the best number of neighbors (K)."
      ],
      "metadata": {
        "id": "_INjpFjRQNjI"
      }
    },
    {
      "cell_type": "code",
      "source": [
        "from sklearn.neighbors import KNeighborsClassifier\n",
        "import numpy as np\n",
        "\n",
        "# Initialize a list to store the F1-scores for different values of K\n",
        "f1_scores_knn = []\n",
        "\n",
        "# Try different values of K (1 to 20) and calculate F1-score\n",
        "for k in range(1, 21):\n",
        "    knn_model = KNeighborsClassifier(n_neighbors=k)\n",
        "    knn_model.fit(X_train, y_train)\n",
        "    y_pred_knn = knn_model.predict(X_test)\n",
        "    f1 = f1_score(y_test, y_pred_knn, average='weighted')\n",
        "    f1_scores_knn.append(f1)\n",
        "\n",
        "# Find the best K and corresponding F1-score\n",
        "best_k = np.argmax(f1_scores_knn) + 1\n",
        "best_f1_knn = f1_scores_knn[best_k - 1]\n",
        "\n",
        "print(f\"best k = {best_k},best f1 KNN ={best_f1_knn}\")\n",
        "\n",
        "y_prob_knn = knn_model.predict_proba(X_test)\n",
        "\n",
        "# Calculate Log Loss for KNN\n",
        "log_loss_knn = log_loss(y_test, y_prob_knn)\n",
        "print(f\"log loss KNN = {log_loss_knn}\")"
      ],
      "metadata": {
        "colab": {
          "base_uri": "https://localhost:8080/"
        },
        "id": "U8Yi1ks5Qcfk",
        "outputId": "887763dc-28f0-411f-a714-21f44453b6e2"
      },
      "execution_count": 26,
      "outputs": [
        {
          "output_type": "stream",
          "name": "stdout",
          "text": [
            "best k = 11,best f1 KNN =0.8456749543387951\n",
            "log loss KNN = 0.4456950612439599\n"
          ]
        }
      ]
    },
    {
      "cell_type": "markdown",
      "source": [
        "The Multiclass KNN model achieved the best performance with K = 11, yielding an F1-score of approximately 0.85. This indicates a good classification performance.\n"
      ],
      "metadata": {
        "id": "idIsmDSgQm8a"
      }
    },
    {
      "cell_type": "markdown",
      "source": [
        "Multi-label Classification for KNN and Decision Trees"
      ],
      "metadata": {
        "id": "QkvSxEzsUrIm"
      }
    },
    {
      "cell_type": "code",
      "source": [
        "from sklearn.multiclass import OneVsRestClassifier\n",
        "\n",
        "# Implement KNN with One-vs-Rest strategy for multi-label classification\n",
        "knn_multilabel = OneVsRestClassifier(KNeighborsClassifier(n_neighbors=best_k))\n",
        "knn_multilabel.fit(X_train, y_train)\n",
        "\n",
        "# Make predictions for KNN Multi-Label\n",
        "y_pred_knn_multilabel = knn_multilabel.predict(X_test)\n",
        "\n",
        "# Calculate the F1-score for Multi-Label KNN\n",
        "f1_knn_multilabel = f1_score(y_test, y_pred_knn_multilabel, average='weighted')\n",
        "print(f\"f1 knn multilabel = {f1_knn_multilabel}\")"
      ],
      "metadata": {
        "colab": {
          "base_uri": "https://localhost:8080/"
        },
        "id": "2-4JjIOYUmrW",
        "outputId": "68c1054c-9d5b-440f-afc7-f4a5aca71f89"
      },
      "execution_count": 27,
      "outputs": [
        {
          "output_type": "stream",
          "name": "stdout",
          "text": [
            "f1 knn multilabel = 0.8458962266267862\n"
          ]
        }
      ]
    },
    {
      "cell_type": "markdown",
      "source": [
        "\n",
        "Next, I will proceed with implementing Multiclass Decision Trees and calculate the F1-score for this model."
      ],
      "metadata": {
        "id": "R81tatfQUuru"
      }
    },
    {
      "cell_type": "code",
      "source": [
        "from sklearn.tree import DecisionTreeClassifier\n",
        "\n",
        "# Initialize and train the Decision Tree model\n",
        "dt_model = DecisionTreeClassifier(random_state=42)\n",
        "dt_model.fit(X_train, y_train)\n",
        "\n",
        "# Make predictions\n",
        "y_pred_dt = dt_model.predict(X_test)\n",
        "\n",
        "# Calculate the F1-score for Decision Tree\n",
        "f1_dt = f1_score(y_test, y_pred_dt, average='weighted')\n",
        "\n",
        "print(f\"f1 decisopn tree = {f1_dt}\")\n",
        "# Get the probability estimates for Decision Trees (required for log_loss)\n",
        "y_prob_dt = dt_model.predict_proba(X_test)\n",
        "\n",
        "# Calculate Log Loss for Decision Trees\n",
        "log_loss_dt = log_loss(y_test, y_prob_dt)\n",
        "print(f\"log loss decision tree = {log_loss_dt}\")\n"
      ],
      "metadata": {
        "colab": {
          "base_uri": "https://localhost:8080/"
        },
        "id": "quWLAQY6QqOF",
        "outputId": "a7e84b76-80d2-41de-dbe6-d23a5a8beaac"
      },
      "execution_count": 28,
      "outputs": [
        {
          "output_type": "stream",
          "name": "stdout",
          "text": [
            "f1 decisopn tree = 0.8870087635839491\n",
            "log loss decision tree = 4.078728398383026\n"
          ]
        }
      ]
    },
    {
      "cell_type": "code",
      "source": [
        "# simillar to knn  one vs rest\n",
        "# Implement Decision Trees with One-vs-Rest strategy for multi-label classification\n",
        "dt_multilabel = OneVsRestClassifier(DecisionTreeClassifier(random_state=42))\n",
        "dt_multilabel.fit(X_train, y_train)\n",
        "\n",
        "# Make predictions for Decision Tree Multi-Label\n",
        "y_pred_dt_multilabel = dt_multilabel.predict(X_test)\n",
        "\n",
        "# Calculate the F1-score for Multi-Label Decision Tree\n",
        "f1_dt_multilabel = f1_score(y_test, y_pred_dt_multilabel, average='weighted')\n",
        "print(f\"f1 decision tree multilabel ={f1_dt_multilabel}\")\n"
      ],
      "metadata": {
        "colab": {
          "base_uri": "https://localhost:8080/"
        },
        "id": "XSHyZ4EcU0nL",
        "outputId": "ee50fbc8-7bcc-4a1b-85de-80f4d5409d9a"
      },
      "execution_count": 29,
      "outputs": [
        {
          "output_type": "stream",
          "name": "stdout",
          "text": [
            "f1 decision tree multilabel =0.8631354557961329\n"
          ]
        }
      ]
    },
    {
      "cell_type": "markdown",
      "source": [
        "The Multiclass Decision Tree model achieved an F1-score of approximately 0.87, which is a strong result, indicating effective classification across the four classes.\n",
        "\n",
        "Next, I'll implement the Boosting Techniques, which include XGBoost, LightGBM, and Adaboost (or Catboost). I'll also perform a Grid Search to tune one of the boosting methods. Let's start with XGBoost."
      ],
      "metadata": {
        "id": "k7xgUR4XQzQN"
      }
    },
    {
      "cell_type": "markdown",
      "source": [
        "<font color=\"green\">KNN and Decision Trees for Multi-Label Classification: Both KNN and Decision Trees can be extended to multi-label classification using the One-vs-Rest (OVR) approach. In OVR, each class is treated as a separate binary classification problem. For each class, the algorithm predicts whether a sample belongs to that class or not, and the class with the highest score is chosen as the predicted class<br>\n",
        "- Log Loss: \"Log Loss measures the accuracy of the probabilistic predictions. A lower Log Loss indicates better model performance. This metric is especially useful when dealing with models that provide probabilistic outputs, like Logistic Regression, Decision Trees, and XGBoost.\"<br>\n",
        "- F1 Score: \"The F1-score is used to measure the balance between precision and recall. It is the harmonic mean of precision and recall, with a higher value indicating better model performance.\"</font>"
      ],
      "metadata": {
        "id": "Fm4FntJNVFIM"
      }
    },
    {
      "cell_type": "code",
      "source": [
        "import xgboost as xgb\n",
        "from sklearn.model_selection import GridSearchCV\n",
        "\n",
        "# Initialize and train the XGBoost model\n",
        "xgb_model = xgb.XGBClassifier(random_state=42)\n",
        "xgb_model.fit(X_train, y_train)\n",
        "\n",
        "# Make predictions\n",
        "y_pred_xgb = xgb_model.predict(X_test)\n",
        "\n",
        "# Calculate the F1-score for XGBoost\n",
        "f1_xgb = f1_score(y_test, y_pred_xgb, average='weighted')\n",
        "\n",
        "# Perform Grid Search to tune hyperparameters for XGBoost\n",
        "param_grid = {\n",
        "    'max_depth': [3, 5, 7],\n",
        "    'learning_rate': [0.01, 0.1, 0.2],\n",
        "    'n_estimators': [50, 100, 200]\n",
        "}\n",
        "\n",
        "grid_search_xgb = GridSearchCV(xgb.XGBClassifier(random_state=42), param_grid, cv=3, scoring='f1_weighted', n_jobs=-1)\n",
        "grid_search_xgb.fit(X_train, y_train)\n",
        "\n",
        "# Best parameters from Grid Search\n",
        "best_params_xgb = grid_search_xgb.best_params_\n",
        "\n",
        "print(f\"f1 xgb ={f1_xgb},best params xgb={best_params_xgb}\")\n",
        "# Get the probability estimates for XGBoost (required for log_loss)\n",
        "y_prob_xgb = xgb_model.predict_proba(X_test)\n",
        "\n",
        "# Calculate Log Loss for XGBoost\n",
        "log_loss_xgb = log_loss(y_test, y_prob_xgb)\n",
        "print(f\"log loss XGB = {log_loss_xgb}\")"
      ],
      "metadata": {
        "colab": {
          "base_uri": "https://localhost:8080/"
        },
        "id": "hj1_0BwRQ0NX",
        "outputId": "e77877a9-72c0-4f22-bb02-69fd173ac149"
      },
      "execution_count": 30,
      "outputs": [
        {
          "output_type": "stream",
          "name": "stdout",
          "text": [
            "f1 xgb =0.9195100192686441,best params xgb={'learning_rate': 0.2, 'max_depth': 5, 'n_estimators': 50}\n",
            "log loss XGB = 0.1814626106522046\n"
          ]
        }
      ]
    },
    {
      "cell_type": "markdown",
      "source": [
        "The XGBoost model achieved an F1-score of approximately 0.85. Additionally, the best hyperparameters found through Grid Search for XGBoost are:\n",
        "\n",
        "- max_depth: 5\n",
        "\n",
        "- learning_rate: 0.2\n",
        "\n",
        "- n_estimators: 50\n",
        "\n",
        "Next, I'll proceed with implementing LightGBM and Adaboost"
      ],
      "metadata": {
        "id": "3qkFDFpwQ7Pi"
      }
    },
    {
      "cell_type": "code",
      "source": [
        "import lightgbm as lgb\n",
        "from sklearn.ensemble import AdaBoostClassifier\n",
        "\n",
        "# Initialize and train the LightGBM model\n",
        "lgb_model = lgb.LGBMClassifier(random_state=42)\n",
        "lgb_model.fit(X_train, y_train)\n",
        "\n",
        "# Make predictions\n",
        "y_pred_lgb = lgb_model.predict(X_test)\n",
        "\n",
        "# Calculate the F1-score for LightGBM\n",
        "f1_lgb = f1_score(y_test, y_pred_lgb, average='weighted')\n",
        "\n",
        "# Initialize and train the AdaBoost model\n",
        "ada_model = AdaBoostClassifier(random_state=42)\n",
        "ada_model.fit(X_train, y_train)\n",
        "\n",
        "# Make predictions\n",
        "y_pred_ada = ada_model.predict(X_test)\n",
        "\n",
        "# Calculate the F1-score for AdaBoost\n",
        "f1_ada = f1_score(y_test, y_pred_ada, average='weighted')\n",
        "\n",
        "print(f\"f1 lgb={f1_lgb},f1 ada = {f1_ada}\")\n"
      ],
      "metadata": {
        "colab": {
          "base_uri": "https://localhost:8080/"
        },
        "id": "vVvj-2lzRQtZ",
        "outputId": "a0732cfd-ed92-4cb8-943b-ca810eb707c6"
      },
      "execution_count": 31,
      "outputs": [
        {
          "output_type": "stream",
          "name": "stdout",
          "text": [
            "[LightGBM] [Info] Auto-choosing col-wise multi-threading, the overhead of testing was 0.001715 seconds.\n",
            "You can set `force_col_wise=true` to remove the overhead.\n",
            "[LightGBM] [Info] Total Bins 739\n",
            "[LightGBM] [Info] Number of data points in the train set: 14527, number of used features: 11\n",
            "[LightGBM] [Info] Start training from score -1.269422\n",
            "[LightGBM] [Info] Start training from score -0.638171\n",
            "[LightGBM] [Info] Start training from score -3.494719\n",
            "[LightGBM] [Info] Start training from score -1.830141\n",
            "[LightGBM] [Warning] No further splits with positive gain, best gain: -inf\n",
            "f1 lgb=0.9250689915022711,f1 ada = 0.7606935877541865\n"
          ]
        }
      ]
    }
  ]
}